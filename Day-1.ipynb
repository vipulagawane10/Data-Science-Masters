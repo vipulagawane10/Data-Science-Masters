{
 "cells": [
  {
   "cell_type": "markdown",
   "id": "30aa5c28-5c65-4017-8d78-0cb60f9cfc66",
   "metadata": {},
   "source": [
    "## Vipul"
   ]
  },
  {
   "cell_type": "markdown",
   "id": "7c16b02d-d34a-4cbd-b85a-3caed71a8ddb",
   "metadata": {},
   "source": [
    "# Vipul"
   ]
  },
  {
   "cell_type": "markdown",
   "id": "260d2209-b759-41c8-abb7-3e04dc9493ac",
   "metadata": {},
   "source": [
    "### Vipul"
   ]
  },
  {
   "cell_type": "markdown",
   "id": "ceaebee5-1294-45ec-abfd-df468b904c88",
   "metadata": {},
   "source": [
    "## Using the .format() method inside print to print a complex sentence."
   ]
  },
  {
   "cell_type": "code",
   "execution_count": 1,
   "id": "d7f68168-0915-4d71-ae84-868329ac96be",
   "metadata": {},
   "outputs": [
    {
     "name": "stdout",
     "output_type": "stream",
     "text": [
      "My age is 28 and I have completed my degree of M.Tech in Energy Science and Technology from IIT Hyderabad\n"
     ]
    }
   ],
   "source": [
    "# My age is 28 and I have completed my degree of M.Tech in Energy Science and Technology from IIT Hyderabad\n",
    "\n",
    "print(\"My age is {age} and I have completed my degree of {degree} in {coursename} from {institutename}\".format(age=28,degree='M.Tech',coursename='Energy Science and Technology',institutename='IIT Hyderabad'))"
   ]
  },
  {
   "cell_type": "code",
   "execution_count": 5,
   "id": "07cf3534-4775-4c52-9d49-42bace2786f6",
   "metadata": {},
   "outputs": [
    {
     "name": "stdin",
     "output_type": "stream",
     "text": [
      "Enter your age 12\n"
     ]
    },
    {
     "name": "stdout",
     "output_type": "stream",
     "text": [
      "Thankyou we will let you know\n"
     ]
    }
   ],
   "source": [
    "age=int(input(\"Enter your age\"))\n",
    "if age>=18 and age <=45:\n",
    "    print(\"You are young blood\")\n",
    "else:\n",
    "    print(\"Thankyou we will let you know\")"
   ]
  },
  {
   "cell_type": "code",
   "execution_count": 3,
   "id": "1e1efb58-c37f-4926-9bfc-27f3930412bd",
   "metadata": {},
   "outputs": [
    {
     "data": {
      "text/plain": [
       "18"
      ]
     },
     "execution_count": 3,
     "metadata": {},
     "output_type": "execute_result"
    }
   ],
   "source": [
    "age"
   ]
  },
  {
   "cell_type": "code",
   "execution_count": 8,
   "id": "9d49aba6-efde-4aca-8f3e-1eeea2ddd319",
   "metadata": {},
   "outputs": [
    {
     "name": "stdin",
     "output_type": "stream",
     "text": [
      "Enter the product price 900\n"
     ]
    },
    {
     "name": "stdout",
     "output_type": "stream",
     "text": [
      "The original price is 1170.0 and the discounted price is 900.\n"
     ]
    }
   ],
   "source": [
    "price = int(input(\"Enter the product price\"))\n",
    "\n",
    "if price >= 1000:\n",
    "    original_price = price + (price*0.1)\n",
    "    print(\"The original price is {org} and the discounted price is {dis}.\".format(org=original_price,dis=price))\n",
    "else:\n",
    "    original_price = price + (price*0.3)\n",
    "    print(\"The original price is {org} and the discounted price is {dis}.\".format(org=original_price,dis=price))"
   ]
  },
  {
   "cell_type": "code",
   "execution_count": 10,
   "id": "760933e2-c291-4950-b47f-a4914a000ec3",
   "metadata": {},
   "outputs": [
    {
     "name": "stdin",
     "output_type": "stream",
     "text": [
      "Enter the product price 1200\n"
     ]
    },
    {
     "name": "stdout",
     "output_type": "stream",
     "text": [
      "The discounted price is 1080.0.\n"
     ]
    }
   ],
   "source": [
    "price = int(input(\"Enter the product price\"))\n",
    "\n",
    "if price > 1000:\n",
    "    print(\"The discounted price is {dis}.\".format(dis=price*0.9))\n",
    "else:\n",
    "    print(\"The discounted price is {dis}.\".format(dis=price*0.7))"
   ]
  },
  {
   "cell_type": "code",
   "execution_count": 14,
   "id": "60ca204d-2387-4274-8db7-55a2b0a8668d",
   "metadata": {},
   "outputs": [
    {
     "name": "stdin",
     "output_type": "stream",
     "text": [
      "Enter the product price 4000\n"
     ]
    },
    {
     "name": "stdout",
     "output_type": "stream",
     "text": [
      "You will get a Goa trip\n",
      "The discounted price is 3600.0.\n"
     ]
    }
   ],
   "source": [
    "price = int(input(\"Enter the product price\"))\n",
    "\n",
    "if price >= 3000:\n",
    "    if price == 4000:\n",
    "        print(\"You will get a Goa trip\")\n",
    "    print(f\"The discounted price is {price*0.9}.\")\n",
    "elif price >=2000 and price <3000:\n",
    "    if price == 2999:\n",
    "        print(\"Congratulations! You will get an aditional gift!\")\n",
    "    print(f\"The discounted price is{price*0.8}\")\n",
    "elif price >=1000 and price <2000:\n",
    "    print(f\"The discounted price is{price*0.6}\")    \n",
    "else:\n",
    "    print(\"Lets drink a cup of coffee\")"
   ]
  },
  {
   "cell_type": "code",
   "execution_count": null,
   "id": "65207092-0519-45f6-b071-75cb9c2073f0",
   "metadata": {},
   "outputs": [],
   "source": []
  }
 ],
 "metadata": {
  "kernelspec": {
   "display_name": "Python 3 (ipykernel)",
   "language": "python",
   "name": "python3"
  },
  "language_info": {
   "codemirror_mode": {
    "name": "ipython",
    "version": 3
   },
   "file_extension": ".py",
   "mimetype": "text/x-python",
   "name": "python",
   "nbconvert_exporter": "python",
   "pygments_lexer": "ipython3",
   "version": "3.10.8"
  }
 },
 "nbformat": 4,
 "nbformat_minor": 5
}
