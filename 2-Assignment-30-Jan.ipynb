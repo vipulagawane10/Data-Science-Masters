{
 "cells": [
  {
   "cell_type": "markdown",
   "id": "1583a7b9-8cb4-449c-9b24-051931816d8a",
   "metadata": {},
   "source": [
    "# 30th Jan Assignment Solutions"
   ]
  },
  {
   "cell_type": "markdown",
   "id": "500e1654-aec3-4ae0-a837-9c3b635436e4",
   "metadata": {},
   "source": [
    "### Write a program to accept percentage from the user and display the grade as per the following"
   ]
  },
  {
   "cell_type": "markdown",
   "id": "8c9cd6ae-376b-4320-b5f0-8f28c52c1920",
   "metadata": {},
   "source": [
    "grade = int(input(\"Enter the percentage\"))\n",
    "\n",
    "if grade > 90:\n",
    "    print(\"A\")\n",
    "elif grade > 80 and grade <=90:\n",
    "    print(\"B\")\n",
    "elif grade >=60 and grade <= 80:\n",
    "    print(\"C\")\n",
    "else:\n",
    "    print(\"D\")\n"
   ]
  },
  {
   "cell_type": "markdown",
   "id": "440124eb-f7a5-4d67-8a97-68d41ae18b3a",
   "metadata": {},
   "source": [
    "### 2. Write a program to accept a cost price of the bike and display the road tax to be paid according to the following criteria:"
   ]
  },
  {
   "cell_type": "code",
   "execution_count": 6,
   "id": "cd3a0cd2-ef36-4b09-a3ce-724c8f2d79dd",
   "metadata": {},
   "outputs": [
    {
     "name": "stdin",
     "output_type": "stream",
     "text": [
      "Enter the cost price of the bike 49000\n"
     ]
    },
    {
     "name": "stdout",
     "output_type": "stream",
     "text": [
      "Tax to be paid is:2450.0\n"
     ]
    }
   ],
   "source": [
    "cost_price = int(input(\"Enter the cost price of the bike\"))\n",
    "a = \"Tax to be paid\"\n",
    "\n",
    "if cost_price > 1000000:\n",
    "    tax_percentage = 0.15\n",
    "    print(\"{} is:{}\".format(a, cost_price*tax_percentage))\n",
    "elif cost_price > 50000 and cost_price <=1000000:\n",
    "    tax_percentage = 0.1\n",
    "    print(\"{} is:{}\".format(a, cost_price*tax_percentage))\n",
    "else:\n",
    "    tax_percentage = 0.05\n",
    "    print(\"{} is:{}\".format(a, cost_price*tax_percentage))\n",
    "    "
   ]
  },
  {
   "cell_type": "markdown",
   "id": "af10d3f7-4de3-44d5-853c-e893b22e1a4d",
   "metadata": {},
   "source": [
    "### 3. Accpet any city from the user and display the monuments in that city"
   ]
  },
  {
   "cell_type": "code",
   "execution_count": 8,
   "id": "3b1f9c1d-6d78-4ad8-af60-30c466f8fac3",
   "metadata": {},
   "outputs": [
    {
     "name": "stdin",
     "output_type": "stream",
     "text": [
      "Enter the city Jaipur\n"
     ]
    },
    {
     "name": "stdout",
     "output_type": "stream",
     "text": [
      "Jal Mahal\n"
     ]
    }
   ],
   "source": [
    "city = input(\"Enter the city\")\n",
    "\n",
    "if city == \"Delhi\":\n",
    "    print(\"Red Fort\")\n",
    "elif city == \"Agra\":\n",
    "    print(\"Taj Mahal\")\n",
    "elif city == \"Jaipur\":\n",
    "    print(\"Jal Mahal\")\n",
    "else:\n",
    "    print(\"Sorry!\")"
   ]
  },
  {
   "cell_type": "markdown",
   "id": "582b724c-287e-4d90-8a9a-ad319f60850b",
   "metadata": {},
   "source": [
    "### 4. Check how many times a given number can be divided by 3 before it becomes less than or equal to 10."
   ]
  },
  {
   "cell_type": "markdown",
   "id": "35a4692e-7896-44f7-b664-5732fec12e42",
   "metadata": {},
   "source": [
    "#### The operator // gives the quotient"
   ]
  },
  {
   "cell_type": "code",
   "execution_count": 32,
   "id": "2134ca1a-f102-4101-94eb-679c161ebc95",
   "metadata": {},
   "outputs": [
    {
     "data": {
      "text/plain": [
       "5"
      ]
     },
     "execution_count": 32,
     "metadata": {},
     "output_type": "execute_result"
    }
   ],
   "source": [
    "10//2"
   ]
  },
  {
   "cell_type": "code",
   "execution_count": 31,
   "id": "d94aada7-3f95-452e-8ce3-c54f1cd08246",
   "metadata": {},
   "outputs": [
    {
     "name": "stdin",
     "output_type": "stream",
     "text": [
      "Enter the number 72\n"
     ]
    },
    {
     "name": "stdout",
     "output_type": "stream",
     "text": [
      "The num 8 will be divided 2 times before it becomes less than or equal to 10\n"
     ]
    }
   ],
   "source": [
    "count = 0\n",
    "num = int(input(\"Enter the number\"))\n",
    "while  num > 10 :\n",
    "    num = num // 3\n",
    "    count +=1\n",
    "print(\"The num {} will be divided {} times before it becomes less than or equal to 10\".format(num, count))"
   ]
  },
  {
   "cell_type": "markdown",
   "id": "66074517-d5be-4218-bd96-ff54231190b3",
   "metadata": {},
   "source": [
    "### 5. Why and when to use a while loop, give a detailed description with an example."
   ]
  },
  {
   "cell_type": "markdown",
   "id": "2a932ef3-e809-410f-983d-085632bb5d04",
   "metadata": {},
   "source": [
    "####  while loop is used to do something until a certain condition is met. Once the condition is met. The while loop evaluates the condition. If it is true then the code inside the while loop gets executed. If the condition evaluates to be false, then the loop is exited and then execution stops."
   ]
  },
  {
   "cell_type": "code",
   "execution_count": 21,
   "id": "0eadde16-b94c-4efa-b6f4-d8ab00892258",
   "metadata": {},
   "outputs": [
    {
     "name": "stdout",
     "output_type": "stream",
     "text": [
      "1\n",
      "2\n",
      "3\n",
      "4\n",
      "5\n"
     ]
    }
   ],
   "source": [
    "i = 1\n",
    "n = 5\n",
    "\n",
    "while i <= n:\n",
    "    print(i)\n",
    "    i +=1\n",
    "    "
   ]
  },
  {
   "cell_type": "markdown",
   "id": "eddc6261-55a1-45f7-a0b4-c0aae35096db",
   "metadata": {},
   "source": [
    "#### In the above example, the variables i and n are initialized to 1 and 5 respectively. Now, the condition inside the while loop will run untill i is less than or equal to n. Once the i becomes greater than n, then the condition is evaluated as False, and then the execution of code under the while loop is terminated."
   ]
  },
  {
   "cell_type": "markdown",
   "id": "2019f5a8-257b-41c1-a577-c0b0246b203b",
   "metadata": {},
   "source": [
    "### 6. Use nested loop to print 3 different pattern"
   ]
  },
  {
   "cell_type": "markdown",
   "id": "2399cb2d-0dc8-46d6-af91-cf4b703e95d1",
   "metadata": {},
   "source": [
    "#### Pattern 1"
   ]
  },
  {
   "cell_type": "code",
   "execution_count": 33,
   "id": "793fb6b0-e6a7-4e96-9ed3-6bbc5b69faa1",
   "metadata": {},
   "outputs": [
    {
     "name": "stdout",
     "output_type": "stream",
     "text": [
      "* \n",
      "* * \n",
      "* * * \n",
      "* * * * \n",
      "* * * * * \n",
      "* * * * * * \n",
      "* * * * * * * \n",
      "* * * * * * \n",
      "* * * * * \n",
      "* * * * \n",
      "* * * \n",
      "* * \n",
      "* \n",
      "\n"
     ]
    }
   ],
   "source": [
    "n=7\n",
    "\n",
    "for i in range(0,n):\n",
    "    for j in range(0,i+1):\n",
    "        print(\"* \",end=\"\")\n",
    "    print(\"\\r\")\n",
    "for i in range(0,n):\n",
    "    for j in range(0,n-i-1):\n",
    "        print(\"* \",end=\"\")\n",
    "    print(\"\\r\")"
   ]
  },
  {
   "cell_type": "markdown",
   "id": "b23e09e9-2fe8-49b4-aefc-98dc11158ee9",
   "metadata": {},
   "source": [
    "#### Pattern 2"
   ]
  },
  {
   "cell_type": "code",
   "execution_count": 34,
   "id": "81790193-a1dc-46e4-977b-4eec04b1439f",
   "metadata": {},
   "outputs": [
    {
     "name": "stdout",
     "output_type": "stream",
     "text": [
      "* * * * * \n",
      "* * * * \n",
      "* * * \n",
      "* * \n",
      "* \n"
     ]
    }
   ],
   "source": [
    "n=5\n",
    "\n",
    "for i in range(0,n):\n",
    "    for j in range(0, n-i):\n",
    "        print(\"* \", end=\"\")\n",
    "    print(\"\\r\")"
   ]
  },
  {
   "cell_type": "markdown",
   "id": "31249aa9-13ff-40d8-a0d6-ac32731423cc",
   "metadata": {},
   "source": [
    "#### Pattern 3"
   ]
  },
  {
   "cell_type": "code",
   "execution_count": 35,
   "id": "7b0d2010-3432-460c-9671-eedb773af802",
   "metadata": {},
   "outputs": [
    {
     "name": "stdout",
     "output_type": "stream",
     "text": [
      "\n",
      "1 \n",
      "1 2 \n",
      "1 2 3 \n",
      "1 2 3 4 \n"
     ]
    }
   ],
   "source": [
    "n=5\n",
    "\n",
    "for i in range(0,n):\n",
    "    for j in range(1, i+1):\n",
    "        num = j\n",
    "        print(f\"{num} \", end=\"\")\n",
    "    print(\"\\r\")"
   ]
  },
  {
   "cell_type": "markdown",
   "id": "203097bd-29ed-4b8b-a8e8-d17f19bdd5bd",
   "metadata": {},
   "source": [
    "#### Pattern 4"
   ]
  },
  {
   "cell_type": "markdown",
   "id": "b27be174-37e4-4ea0-9cdc-867dded7bbde",
   "metadata": {},
   "source": [
    "#### "
   ]
  },
  {
   "cell_type": "markdown",
   "id": "3d0da246-d63b-4b6c-8edb-926e570b1ecc",
   "metadata": {},
   "source": [
    "#### Note: See, in the next for loop, I am only considering the range till i i.e, range(0,i). That is the reason why the first row is skipped from printing a star. This is because, inside the range funtion, the second parameter in the function is not included."
   ]
  },
  {
   "cell_type": "code",
   "execution_count": 39,
   "id": "6f7c2f0b-9da1-4b7f-8485-b2f9db5ce045",
   "metadata": {},
   "outputs": [
    {
     "name": "stdout",
     "output_type": "stream",
     "text": [
      "\n",
      "* \n",
      "* * \n",
      "* * * \n",
      "* * * * \n"
     ]
    }
   ],
   "source": [
    "n = 5\n",
    "\n",
    "for i in range(0,n):\n",
    "    for j in range(0, i):\n",
    "        print(\"* \",end=\"\")\n",
    "    print(\"\\r\")"
   ]
  },
  {
   "cell_type": "markdown",
   "id": "abce10fb-cd9a-4704-80f5-0851735a741d",
   "metadata": {},
   "source": [
    "#### Note: In the below code for pattern, there is no extra space added after \"*\" (the star mark) which is whiy there are no spaces in the pattern."
   ]
  },
  {
   "cell_type": "code",
   "execution_count": 37,
   "id": "b8d23023-1875-4df0-9975-16d2eaa13b5d",
   "metadata": {},
   "outputs": [
    {
     "name": "stdout",
     "output_type": "stream",
     "text": [
      "*\n",
      "**\n",
      "***\n",
      "****\n",
      "*****\n",
      "******\n",
      "*******\n"
     ]
    }
   ],
   "source": [
    "n=7\n",
    "\n",
    "for i in range(0,n):\n",
    "    for j in range(0,i+1):\n",
    "        print(\"*\", end=\"\")\n",
    "    print(\"\\r\")\n"
   ]
  },
  {
   "cell_type": "markdown",
   "id": "91e85a5a-af5a-4cec-acc8-35d015a3c4f0",
   "metadata": {},
   "source": [
    "### Q7. Reverse a while loop to display numbers from 10 to 1"
   ]
  },
  {
   "cell_type": "markdown",
   "id": "f4a86166-6bb0-469d-b713-06de36ce14f1",
   "metadata": {},
   "source": [
    "display numbers from 10 to 1\n",
    "\n",
    "1. Start from 10.\n",
    "2. Do untill it is 1\n",
    "3. after 10 decrement by and check if it is equal to 1 or not.\n",
    "4. If it is equal to 1, then break the loop."
   ]
  },
  {
   "cell_type": "code",
   "execution_count": 9,
   "id": "04e1cd0a-cacd-4307-9e61-fd2682a04f43",
   "metadata": {},
   "outputs": [
    {
     "name": "stdout",
     "output_type": "stream",
     "text": [
      "10\n",
      "9\n",
      "8\n",
      "7\n",
      "6\n",
      "5\n",
      "4\n",
      "3\n",
      "2\n",
      "1\n"
     ]
    }
   ],
   "source": [
    "a=10\n",
    "while a!=0:\n",
    "    print(a)\n",
    "    a -=1"
   ]
  },
  {
   "cell_type": "code",
   "execution_count": null,
   "id": "67821210-acc1-4e18-8474-6d669e13f81e",
   "metadata": {},
   "outputs": [],
   "source": []
  }
 ],
 "metadata": {
  "kernelspec": {
   "display_name": "Python 3 (ipykernel)",
   "language": "python",
   "name": "python3"
  },
  "language_info": {
   "codemirror_mode": {
    "name": "ipython",
    "version": 3
   },
   "file_extension": ".py",
   "mimetype": "text/x-python",
   "name": "python",
   "nbconvert_exporter": "python",
   "pygments_lexer": "ipython3",
   "version": "3.10.8"
  }
 },
 "nbformat": 4,
 "nbformat_minor": 5
}
